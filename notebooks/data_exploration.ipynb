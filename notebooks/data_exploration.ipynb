{
 "cells": [
  {
   "cell_type": "markdown",
   "metadata": {},
   "source": [
    "# Data Exploration"
   ]
  },
  {
   "cell_type": "markdown",
   "metadata": {},
   "source": [
    "## Load the datasets"
   ]
  },
  {
   "cell_type": "code",
   "execution_count": null,
   "metadata": {},
   "outputs": [],
   "source": [
    "import pandas as pd\n",
    "\n",
    "# Load datasets\n",
    "mat_df = pd.read_csv('../data/raw/student-mat.csv', sep=';')\n",
    "por_df = pd.read_csv('../data/raw/student-por.csv', sep=';')\n",
    "\n",
    "# Display the first few rows and shapes of each dataset\n",
    "print(\"Student-Math Dataset:\")\n",
    "print(mat_df.head())\n",
    "print(f\"Shape: {mat_df.shape}\\n\")\n",
    "\n",
    "print(\"Student-Portuguese Dataset:\")\n",
    "print(por_df.head())\n",
    "print(f\"Shape: {por_df.shape}\\n\")"
   ]
  },
  {
   "cell_type": "markdown",
   "metadata": {},
   "source": [
    "## Explore the data"
   ]
  },
  {
   "cell_type": "code",
   "execution_count": null,
   "metadata": {},
   "outputs": [],
   "source": [
    "# Check for missing values in both datasets\n",
    "print(\"Missing Values (Student-Math):\")\n",
    "print(mat_df.isnull().sum().sort_values(ascending=False))\n",
    "print(\"\\nMissing Values (Student-Portuguese):\")\n",
    "print(por_df.isnull().sum().sort_values(ascending=False))\n",
    "\n",
    "# Display summary statistics for numeric columns\n",
    "print(\"\\nSummary Statistics (Student-Math):\")\n",
    "print(mat_df.describe())\n",
    "print(\"\\nSummary Statistics (Student-Portuguese):\")\n",
    "print(por_df.describe())"
   ]
  },
  {
   "cell_type": "code",
   "execution_count": null,
   "metadata": {},
   "outputs": [],
   "source": [
    "import seaborn as sns\n",
    "import matplotlib.pyplot as plt\n",
    "\n",
    "# Visualize distributions of the target variables (G3)\n",
    "plt.figure(figsize=(10, 6))\n",
    "sns.histplot(mat_df['G3'], kde=True, color='blue', label='Math Final Grade')\n",
    "sns.histplot(por_df['G3'], kde=True, color='orange', label='Portuguese Final Grade', alpha=0.6)\n",
    "plt.title(\"Distribution of Final Grades (G3)\")\n",
    "plt.xlabel(\"Grade\")\n",
    "plt.ylabel(\"Frequency\")\n",
    "plt.legend()\n",
    "plt.show()"
   ]
  },
  {
   "cell_type": "code",
   "execution_count": null,
   "metadata": {},
   "outputs": [],
   "source": [
    "# Filter numeric columns only\n",
    "numeric_columns = mat_df.select_dtypes(include=['number']).columns\n",
    "\n",
    "# Calculate correlation matrix for numeric columns\n",
    "plt.figure(figsize=(12, 10))\n",
    "corr_matrix = mat_df[numeric_columns].corr()\n",
    "sns.heatmap(corr_matrix, annot=False, cmap=\"coolwarm\", cbar=True)\n",
    "plt.title(\"Correlation Matrix (Student-Math)\")\n",
    "plt.show()"
   ]
  },
  {
   "cell_type": "code",
   "execution_count": null,
   "metadata": {},
   "outputs": [],
   "source": [
    "# Filter numeric columns only\n",
    "numeric_columns = por_df.select_dtypes(include=['number']).columns\n",
    "\n",
    "# Calculate correlation matrix for numeric columns\n",
    "plt.figure(figsize=(12, 10))\n",
    "corr_matrix = por_df[numeric_columns].corr()\n",
    "sns.heatmap(corr_matrix, annot=False, cmap=\"coolwarm\", cbar=True)\n",
    "plt.title(\"Correlation Matrix (Student-Portugeuse)\")\n",
    "plt.show()"
   ]
  },
  {
   "cell_type": "markdown",
   "metadata": {},
   "source": [
    "## Merge the Datasets"
   ]
  },
  {
   "cell_type": "code",
   "execution_count": null,
   "metadata": {},
   "outputs": [],
   "source": [
    "# Common columns to merge on\n",
    "common_columns = ['school', 'sex', 'age', 'address', 'famsize', 'Pstatus', \n",
    "                  'Medu', 'Fedu', 'Mjob', 'Fjob', 'reason', 'guardian', \n",
    "                  'traveltime', 'studytime', 'failures', 'schoolsup', \n",
    "                  'famsup', 'paid', 'activities', 'nursery', 'higher', \n",
    "                  'internet', 'romantic', 'famrel', 'freetime', 'goout', \n",
    "                  'Dalc', 'Walc', 'health', 'absences']\n",
    "\n",
    "# Merge datasets on common columns\n",
    "merged_df = pd.merge(mat_df, por_df, on=common_columns, suffixes=('_mat', '_por'))\n",
    "print(\"\\nMerged Dataset:\")\n",
    "print(merged_df.head())\n",
    "print(f\"Shape: {merged_df.shape}\\n\")"
   ]
  },
  {
   "cell_type": "markdown",
   "metadata": {},
   "source": [
    "## Feature Engineering"
   ]
  },
  {
   "cell_type": "code",
   "execution_count": null,
   "metadata": {},
   "outputs": [],
   "source": [
    "# Create a binary target variable: Did the student pass? (G3 >= 10)\n",
    "merged_df['pass_mat'] = merged_df['G3_mat'].apply(lambda x: 1 if x >= 10 else 0)\n",
    "merged_df['pass_por'] = merged_df['G3_por'].apply(lambda x: 1 if x >= 10 else 0)\n",
    "\n",
    "# Convert categorical variables into dummy/indicator variables\n",
    "merged_df = pd.get_dummies(merged_df, drop_first=True)\n",
    "\n",
    "# Display the first few rows of the processed data\n",
    "merged_df.head()"
   ]
  },
  {
   "cell_type": "code",
   "execution_count": null,
   "metadata": {},
   "outputs": [],
   "source": [
    "# Check class distribution for binary targets\n",
    "print(\"Class Distribution for pass_mat (Math):\")\n",
    "print(merged_df['pass_mat'].value_counts(normalize=True))\n",
    "print(\"\\nClass Distribution for pass_por (Portuguese):\")\n",
    "print(merged_df['pass_por'].value_counts(normalize=True))"
   ]
  },
  {
   "cell_type": "code",
   "execution_count": null,
   "metadata": {},
   "outputs": [],
   "source": [
    "# Visualize class distribution for Math pass rate\n",
    "plt.figure(figsize=(6, 4))\n",
    "sns.countplot(x='pass_mat', data=merged_df, palette='Set2')\n",
    "plt.title(\"Pass Rate Distribution (Math)\")\n",
    "plt.xlabel(\"Pass (1) / Fail (0)\")\n",
    "plt.ylabel(\"Count\")\n",
    "plt.show()"
   ]
  },
  {
   "cell_type": "code",
   "execution_count": null,
   "metadata": {},
   "outputs": [],
   "source": [
    "# Visualize relationship between final grade and absences\n",
    "plt.figure(figsize=(10, 6))\n",
    "sns.scatterplot(x='absences', y='G3_mat', data=merged_df, color='purple', alpha=0.7)\n",
    "plt.title(\"Relationship Between Absences and Final Grade (Math)\")\n",
    "plt.xlabel(\"Absences\")\n",
    "plt.ylabel(\"Final Grade (G3)\")\n",
    "plt.show()"
   ]
  },
  {
   "cell_type": "markdown",
   "metadata": {},
   "source": [
    "## Modeling"
   ]
  },
  {
   "cell_type": "code",
   "execution_count": null,
   "metadata": {},
   "outputs": [],
   "source": [
    "from sklearn.model_selection import train_test_split, cross_val_score\n",
    "from sklearn.tree import DecisionTreeClassifier\n",
    "from sklearn.ensemble import RandomForestClassifier\n",
    "from sklearn.linear_model import LogisticRegression\n",
    "from sklearn.metrics import accuracy_score, classification_report, roc_auc_score\n",
    "\n",
    "# Define features and target variable\n",
    "X = merged_df.drop(columns=['G1_mat', 'G2_mat', 'G3_mat', 'G1_por', 'G2_por', 'G3_por', 'pass_mat', 'pass_por'])\n",
    "y = merged_df['pass_mat']  # or 'pass_port' depending on the analysis\n",
    "\n",
    "# Train-test split\n",
    "X_train, X_test, y_train, y_test = train_test_split(X, y, test_size=0.2, random_state=42)\n",
    "\n",
    "# Model 1: Decision Tree\n",
    "tree_model = DecisionTreeClassifier(random_state=42)\n",
    "tree_model.fit(X_train, y_train)\n",
    "y_pred_tree = tree_model.predict(X_test)\n",
    "print(\"Decision Tree:\")\n",
    "print(f\"Accuracy: {accuracy_score(y_test, y_pred_tree)}\")\n",
    "print(f\"Classification Report:\\n{classification_report(y_test, y_pred_tree)}\")\n",
    "\n",
    "# Model 2: Logistic Regression\n",
    "logistic_model = LogisticRegression(max_iter=1000, random_state=42)\n",
    "logistic_model.fit(X_train, y_train)\n",
    "y_pred_logistic = logistic_model.predict(X_test)\n",
    "print(\"\\nLogistic Regression:\")\n",
    "print(f\"Accuracy: {accuracy_score(y_test, y_pred_logistic)}\")\n",
    "print(f\"Classification Report:\\n{classification_report(y_test, y_pred_logistic)}\")\n",
    "\n",
    "# Model 3: Random Forest\n",
    "forest_model = RandomForestClassifier(random_state=42)\n",
    "forest_model.fit(X_train, y_train)\n",
    "y_pred_forest = forest_model.predict(X_test)\n",
    "print(\"\\nRandom Forest:\")\n",
    "print(f\"Accuracy: {accuracy_score(y_test, y_pred_forest)}\")\n",
    "print(f\"Classification Report:\\n{classification_report(y_test, y_pred_forest)}\")\n",
    "\n",
    "# Optional: Evaluate with ROC-AUC Score\n",
    "for model, name in zip([tree_model, logistic_model, forest_model], \n",
    "                       [\"Decision Tree\", \"Logistic Regression\", \"Random Forest\"]):\n",
    "    y_pred_proba = model.predict_proba(X_test)[:, 1]\n",
    "    roc_auc = roc_auc_score(y_test, y_pred_proba)\n",
    "    print(f\"\\n{name} ROC-AUC Score: {roc_auc:.4f}\")\n",
    "\n",
    "# Visualize Feature Importance (Random Forest)\n",
    "feature_importances = pd.Series(forest_model.feature_importances_, index=X.columns).sort_values(ascending=False)\n",
    "plt.figure(figsize=(10, 6))\n",
    "sns.barplot(x=feature_importances[:10], y=feature_importances.index[:10])\n",
    "plt.title(\"Top 10 Feature Importances (Random Forest)\")\n",
    "plt.show()\n"
   ]
  }
 ],
 "metadata": {
  "kernelspec": {
   "display_name": ".venv",
   "language": "python",
   "name": "python3"
  },
  "language_info": {
   "codemirror_mode": {
    "name": "ipython",
    "version": 3
   },
   "file_extension": ".py",
   "mimetype": "text/x-python",
   "name": "python",
   "nbconvert_exporter": "python",
   "pygments_lexer": "ipython3",
   "version": "3.12.6"
  }
 },
 "nbformat": 4,
 "nbformat_minor": 2
}
